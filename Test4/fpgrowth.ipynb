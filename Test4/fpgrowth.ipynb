{
 "cells": [
  {
   "cell_type": "code",
   "execution_count": 11,
   "metadata": {
    "ExecuteTime": {
     "end_time": "2025-05-15T08:38:58.584785900Z",
     "start_time": "2025-05-15T08:38:58.415411500Z"
    }
   },
   "outputs": [],
   "source": [
    "import numpy as np\n",
    "import pandas as pd\n",
    "import mlxtend\n",
    "from mlxtend.preprocessing import TransactionEncoder\n",
    "from mlxtend.frequent_patterns import apriori\n",
    "from mlxtend.frequent_patterns import association_rules\n",
    "from mlxtend.frequent_patterns import fpgrowth\n",
    "import plotly\n",
    "import plotly.express as px"
   ]
  },
  {
   "cell_type": "code",
   "execution_count": 12,
   "metadata": {
    "ExecuteTime": {
     "end_time": "2025-05-15T08:38:58.585787700Z",
     "start_time": "2025-05-15T08:38:58.427642100Z"
    }
   },
   "outputs": [],
   "source": [
    "import pyfpgrowth"
   ]
  },
  {
   "cell_type": "code",
   "execution_count": 13,
   "metadata": {
    "ExecuteTime": {
     "end_time": "2025-05-15T08:38:58.585787700Z",
     "start_time": "2025-05-15T08:38:58.442076900Z"
    }
   },
   "outputs": [
    {
     "data": {
      "text/plain": "[['I1', 'I2', 'I5'],\n ['I2', 'I4'],\n ['I2', 'I3'],\n ['I1', 'I2', 'I4'],\n ['I1', 'I3'],\n ['I2', 'I3'],\n ['I1', 'I3'],\n ['I1', 'I2', 'I3', 'I5'],\n ['I1', 'I2', 'I3', 'I6']]"
     },
     "execution_count": 13,
     "metadata": {},
     "output_type": "execute_result"
    }
   ],
   "source": [
    "data = \"I1 I2 I5,I2 I4,I2 I3,I1 I2 I4,I1 I3,I2 I3,I1 I3,I1 I2 I3 I5,I1 I2 I3 I6\"\n",
    "transactionsZX = [x.split() for x in data.split(',')]\n",
    "transactionsZX "
   ]
  },
  {
   "cell_type": "code",
   "execution_count": 14,
   "metadata": {
    "ExecuteTime": {
     "end_time": "2025-05-15T08:38:58.617696300Z",
     "start_time": "2025-05-15T08:38:58.461515Z"
    }
   },
   "outputs": [
    {
     "data": {
      "text/plain": "array([[ True,  True, False, False,  True, False],\n       [False,  True, False,  True, False, False],\n       [False,  True,  True, False, False, False],\n       [ True,  True, False,  True, False, False],\n       [ True, False,  True, False, False, False],\n       [False,  True,  True, False, False, False],\n       [ True, False,  True, False, False, False],\n       [ True,  True,  True, False,  True, False],\n       [ True,  True,  True, False, False,  True]])"
     },
     "execution_count": 14,
     "metadata": {},
     "output_type": "execute_result"
    }
   ],
   "source": [
    "te = TransactionEncoder()\n",
    "dataset_te = te.fit(transactionsZX).transform(transactionsZX)\n",
    "dataset_te"
   ]
  },
  {
   "cell_type": "code",
   "execution_count": 15,
   "metadata": {
    "ExecuteTime": {
     "end_time": "2025-05-15T08:38:58.618723Z",
     "start_time": "2025-05-15T08:38:58.474946900Z"
    }
   },
   "outputs": [
    {
     "data": {
      "text/plain": "{('I5',): 2,\n ('I1', 'I5'): 2,\n ('I2', 'I5'): 2,\n ('I1', 'I2', 'I5'): 2,\n ('I4',): 2,\n ('I2', 'I4'): 2,\n ('I1',): 6,\n ('I1', 'I2'): 4,\n ('I2', 'I3'): 4,\n ('I1', 'I2', 'I3'): 2,\n ('I1', 'I3'): 4,\n ('I2',): 7}"
     },
     "execution_count": 15,
     "metadata": {},
     "output_type": "execute_result"
    }
   ],
   "source": [
    "patterns = pyfpgrowth.find_frequent_patterns(transactionsZX,2)\n",
    "patterns"
   ]
  },
  {
   "cell_type": "code",
   "execution_count": 16,
   "metadata": {
    "ExecuteTime": {
     "end_time": "2025-05-15T08:38:58.620187800Z",
     "start_time": "2025-05-15T08:38:58.489929400Z"
    }
   },
   "outputs": [
    {
     "data": {
      "text/plain": "{('I5',): (('I1', 'I2'), 1.0),\n ('I1', 'I5'): (('I2',), 1.0),\n ('I2', 'I5'): (('I1',), 1.0),\n ('I4',): (('I2',), 1.0)}"
     },
     "execution_count": 16,
     "metadata": {},
     "output_type": "execute_result"
    }
   ],
   "source": [
    "rule = pyfpgrowth.generate_association_rules(patterns,0.7)\n",
    "rule "
   ]
  },
  {
   "cell_type": "code",
   "execution_count": 17,
   "metadata": {
    "ExecuteTime": {
     "end_time": "2025-05-15T08:38:58.623056100Z",
     "start_time": "2025-05-15T08:38:58.506864800Z"
    }
   },
   "outputs": [
    {
     "name": "stdout",
     "output_type": "stream",
     "text": [
      "(7500, 20)\n"
     ]
    },
    {
     "data": {
      "text/plain": "           shrimp    almonds     avocado    vegetables mix green grapes  \\\n0         burgers  meatballs        eggs               NaN          NaN   \n1         chutney        NaN         NaN               NaN          NaN   \n2          turkey    avocado         NaN               NaN          NaN   \n3   mineral water       milk  energy bar  whole wheat rice    green tea   \n4  low fat yogurt        NaN         NaN               NaN          NaN   \n\n  whole weat flour yams cottage cheese energy drink tomato juice  \\\n0              NaN  NaN            NaN          NaN          NaN   \n1              NaN  NaN            NaN          NaN          NaN   \n2              NaN  NaN            NaN          NaN          NaN   \n3              NaN  NaN            NaN          NaN          NaN   \n4              NaN  NaN            NaN          NaN          NaN   \n\n  low fat yogurt green tea honey salad mineral water salmon antioxydant juice  \\\n0            NaN       NaN   NaN   NaN           NaN    NaN               NaN   \n1            NaN       NaN   NaN   NaN           NaN    NaN               NaN   \n2            NaN       NaN   NaN   NaN           NaN    NaN               NaN   \n3            NaN       NaN   NaN   NaN           NaN    NaN               NaN   \n4            NaN       NaN   NaN   NaN           NaN    NaN               NaN   \n\n  frozen smoothie spinach  olive oil  \n0             NaN     NaN        NaN  \n1             NaN     NaN        NaN  \n2             NaN     NaN        NaN  \n3             NaN     NaN        NaN  \n4             NaN     NaN        NaN  ",
      "text/html": "<div>\n<style scoped>\n    .dataframe tbody tr th:only-of-type {\n        vertical-align: middle;\n    }\n\n    .dataframe tbody tr th {\n        vertical-align: top;\n    }\n\n    .dataframe thead th {\n        text-align: right;\n    }\n</style>\n<table border=\"1\" class=\"dataframe\">\n  <thead>\n    <tr style=\"text-align: right;\">\n      <th></th>\n      <th>shrimp</th>\n      <th>almonds</th>\n      <th>avocado</th>\n      <th>vegetables mix</th>\n      <th>green grapes</th>\n      <th>whole weat flour</th>\n      <th>yams</th>\n      <th>cottage cheese</th>\n      <th>energy drink</th>\n      <th>tomato juice</th>\n      <th>low fat yogurt</th>\n      <th>green tea</th>\n      <th>honey</th>\n      <th>salad</th>\n      <th>mineral water</th>\n      <th>salmon</th>\n      <th>antioxydant juice</th>\n      <th>frozen smoothie</th>\n      <th>spinach</th>\n      <th>olive oil</th>\n    </tr>\n  </thead>\n  <tbody>\n    <tr>\n      <th>0</th>\n      <td>burgers</td>\n      <td>meatballs</td>\n      <td>eggs</td>\n      <td>NaN</td>\n      <td>NaN</td>\n      <td>NaN</td>\n      <td>NaN</td>\n      <td>NaN</td>\n      <td>NaN</td>\n      <td>NaN</td>\n      <td>NaN</td>\n      <td>NaN</td>\n      <td>NaN</td>\n      <td>NaN</td>\n      <td>NaN</td>\n      <td>NaN</td>\n      <td>NaN</td>\n      <td>NaN</td>\n      <td>NaN</td>\n      <td>NaN</td>\n    </tr>\n    <tr>\n      <th>1</th>\n      <td>chutney</td>\n      <td>NaN</td>\n      <td>NaN</td>\n      <td>NaN</td>\n      <td>NaN</td>\n      <td>NaN</td>\n      <td>NaN</td>\n      <td>NaN</td>\n      <td>NaN</td>\n      <td>NaN</td>\n      <td>NaN</td>\n      <td>NaN</td>\n      <td>NaN</td>\n      <td>NaN</td>\n      <td>NaN</td>\n      <td>NaN</td>\n      <td>NaN</td>\n      <td>NaN</td>\n      <td>NaN</td>\n      <td>NaN</td>\n    </tr>\n    <tr>\n      <th>2</th>\n      <td>turkey</td>\n      <td>avocado</td>\n      <td>NaN</td>\n      <td>NaN</td>\n      <td>NaN</td>\n      <td>NaN</td>\n      <td>NaN</td>\n      <td>NaN</td>\n      <td>NaN</td>\n      <td>NaN</td>\n      <td>NaN</td>\n      <td>NaN</td>\n      <td>NaN</td>\n      <td>NaN</td>\n      <td>NaN</td>\n      <td>NaN</td>\n      <td>NaN</td>\n      <td>NaN</td>\n      <td>NaN</td>\n      <td>NaN</td>\n    </tr>\n    <tr>\n      <th>3</th>\n      <td>mineral water</td>\n      <td>milk</td>\n      <td>energy bar</td>\n      <td>whole wheat rice</td>\n      <td>green tea</td>\n      <td>NaN</td>\n      <td>NaN</td>\n      <td>NaN</td>\n      <td>NaN</td>\n      <td>NaN</td>\n      <td>NaN</td>\n      <td>NaN</td>\n      <td>NaN</td>\n      <td>NaN</td>\n      <td>NaN</td>\n      <td>NaN</td>\n      <td>NaN</td>\n      <td>NaN</td>\n      <td>NaN</td>\n      <td>NaN</td>\n    </tr>\n    <tr>\n      <th>4</th>\n      <td>low fat yogurt</td>\n      <td>NaN</td>\n      <td>NaN</td>\n      <td>NaN</td>\n      <td>NaN</td>\n      <td>NaN</td>\n      <td>NaN</td>\n      <td>NaN</td>\n      <td>NaN</td>\n      <td>NaN</td>\n      <td>NaN</td>\n      <td>NaN</td>\n      <td>NaN</td>\n      <td>NaN</td>\n      <td>NaN</td>\n      <td>NaN</td>\n      <td>NaN</td>\n      <td>NaN</td>\n      <td>NaN</td>\n      <td>NaN</td>\n    </tr>\n  </tbody>\n</table>\n</div>"
     },
     "execution_count": 17,
     "metadata": {},
     "output_type": "execute_result"
    }
   ],
   "source": [
    "dataset = pd.read_csv(r'Market_Basket_Optimisation.csv')\n",
    "print(dataset.shape)\n",
    "dataset.head(5)"
   ]
  },
  {
   "cell_type": "code",
   "execution_count": null,
   "metadata": {
    "is_executing": true,
    "ExecuteTime": {
     "start_time": "2025-05-15T08:38:58.563279500Z"
    }
   },
   "outputs": [],
   "source": [
    "transaction = []\n",
    "for i in range(dataset.shape[0]):\n",
    "    for j in range(dataset.shape[1]):\n",
    "        transaction.append(dataset.values[i,j])\n",
    "transaction = np.array(transaction)\n",
    "print(transaction)"
   ]
  },
  {
   "cell_type": "code",
   "execution_count": null,
   "metadata": {
    "is_executing": true
   },
   "outputs": [],
   "source": [
    "df = pd.DataFrame(transaction,columns=[\"items\"])\n",
    "df['incident_count'] = 1\n",
    "indexName = df[df['items'] == 'nan'].index\n",
    "df.drop(indexName,inplace=True)"
   ]
  },
  {
   "cell_type": "code",
   "execution_count": null,
   "metadata": {
    "is_executing": true
   },
   "outputs": [],
   "source": [
    "df_table = df.groupby('items').sum().sort_values('incident_count',ascending=False).reset_index()\n",
    "df_table.head(5).style.background_gradient(cmap='Blues')"
   ]
  },
  {
   "cell_type": "code",
   "execution_count": null,
   "metadata": {
    "is_executing": true
   },
   "outputs": [],
   "source": [
    "df_table['all'] = \"Top 50 Items\"\n",
    "fig = px.treemap(df_table.head(50),path=['all','items'],values='incident_count',\n",
    "                 color = df_table['incident_count'].head(50),\n",
    "                 hover_data=['items'],color_continuous_scale=\"ylgn\")\n",
    "fig.show()"
   ]
  },
  {
   "cell_type": "code",
   "execution_count": null,
   "metadata": {
    "scrolled": true,
    "is_executing": true
   },
   "outputs": [],
   "source": [
    "transaction = []\n",
    "for i in range(dataset.shape[0]):\n",
    "    transaction.append([str(dataset.values[i,j]) for j in range(dataset.shape[1])])\n",
    "transaction = np.array(transaction)\n",
    "te = TransactionEncoder()\n",
    "transaction_te = te.fit(transaction).transform(transaction)\n",
    "transaction_df = pd.DataFrame(transaction_te,columns=te.columns_)\n",
    "transaction_df.head()"
   ]
  },
  {
   "cell_type": "code",
   "execution_count": null,
   "metadata": {
    "is_executing": true
   },
   "outputs": [],
   "source": [
    "first30 = df_table['items'].head(30).values\n",
    "print(first30)"
   ]
  },
  {
   "cell_type": "code",
   "execution_count": null,
   "metadata": {
    "is_executing": true
   },
   "outputs": [],
   "source": [
    "transaction_df = transaction_df.loc[:,first30]\n",
    "print(transaction_df.shape)"
   ]
  },
  {
   "cell_type": "code",
   "execution_count": null,
   "metadata": {
    "is_executing": true
   },
   "outputs": [],
   "source": [
    "frequent_itemsets = fpgrowth(transaction_df, min_support=0.05,use_colnames=True)\n",
    "frequent_itemsets.head(10)"
   ]
  },
  {
   "cell_type": "code",
   "execution_count": null,
   "metadata": {
    "is_executing": true
   },
   "outputs": [],
   "source": [
    "%timeit  fpgrowth(transaction_df, min_support=0.05,use_colnames=True)"
   ]
  },
  {
   "cell_type": "code",
   "execution_count": null,
   "metadata": {
    "is_executing": true
   },
   "outputs": [],
   "source": [
    "%timeit  apriori(transaction_df, min_support=0.05,use_colnames=True)"
   ]
  },
  {
   "cell_type": "code",
   "execution_count": null,
   "metadata": {
    "is_executing": true
   },
   "outputs": [],
   "source": [
    "rules = association_rules(frequent_itemsets,metric='lift',min_threshold=1)\n",
    "rules.sort_values('confidence',ascending=False)"
   ]
  }
 ],
 "metadata": {
  "kernelspec": {
   "display_name": "base",
   "language": "python",
   "name": "python3"
  },
  "language_info": {
   "codemirror_mode": {
    "name": "ipython",
    "version": 3
   },
   "file_extension": ".py",
   "mimetype": "text/x-python",
   "name": "python",
   "nbconvert_exporter": "python",
   "pygments_lexer": "ipython3",
   "version": "3.9.7"
  }
 },
 "nbformat": 4,
 "nbformat_minor": 2
}

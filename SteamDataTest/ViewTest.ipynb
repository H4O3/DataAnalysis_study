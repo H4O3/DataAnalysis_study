{
 "cells": [
  {
   "cell_type": "code",
   "execution_count": 2,
   "metadata": {
    "collapsed": true,
    "ExecuteTime": {
     "end_time": "2025-06-16T08:10:48.622505700Z",
     "start_time": "2025-06-16T08:10:48.556560400Z"
    }
   },
   "outputs": [
    {
     "name": "stdout",
     "output_type": "stream",
     "text": [
      "Copied and renamed output\\achievement_ratings.csv\\part-00000-24a1c46b-fe71-4efe-b74d-0cd6b45c2135-c000.csv to csv_files\\achievement_ratings.csv\n",
      "Copied and renamed output\\category_avg_price.csv\\part-00000-06efc87a-1bea-49e4-b081-2037a71a68e6-c000.csv to csv_files\\category_avg_price.csv\n",
      "Copied and renamed output\\developer_avg_price.csv\\part-00000-702344a3-3eeb-4728-a383-8f738b1d170c-c000.csv to csv_files\\developer_avg_price.csv\n",
      "Copied and renamed output\\developer_counts.csv\\part-00000-7283350b-0970-4ede-83a9-861bf905386b-c000.csv to csv_files\\developer_counts.csv\n",
      "Copied and renamed output\\english_games.csv\\part-00000-498a637b-ebe4-4a69-93e4-298bf5109f59-c000.csv to csv_files\\english_games.csv\n",
      "Copied and renamed output\\genre_counts.csv\\part-00000-fdaab0ce-cf5c-4580-aa85-6b53f56f404d-c000.csv to csv_files\\genre_counts.csv\n",
      "Copied and renamed output\\owner_playtime.csv\\part-00000-be759276-248b-4b55-8bc4-8689a8525a7b-c000.csv to csv_files\\owner_playtime.csv\n",
      "Copied and renamed output\\platform_counts.csv\\part-00000-7cd8a27d-17d3-410c-86a7-5e848838c111-c000.csv to csv_files\\platform_counts.csv\n",
      "Copied and renamed output\\price_ranges.csv\\part-00000-0d7561a3-2739-4d89-8018-41deb1ba8170-c000.csv to csv_files\\price_ranges.csv\n",
      "Copied and renamed output\\rating_efficiency.csv\\part-00000-a4717c60-8fe9-4a9b-aad2-390b4784810a-c000.csv to csv_files\\rating_efficiency.csv\n",
      "Copied and renamed output\\rating_ratio.csv\\part-00000-d8844bb7-f087-4045-9c57-b63e572181d6-c000.csv to csv_files\\rating_ratio.csv\n",
      "Copied and renamed output\\release_years.csv\\part-00000-00e79794-a1b4-4529-ad0f-9a0be8f6fc00-c000.csv to csv_files\\release_years.csv\n",
      "Copied and renamed output\\top_owners.csv\\part-00000-8cc8553c-8e47-46d3-b415-b4fc4c4c1e9a-c000.csv to csv_files\\top_owners.csv\n"
     ]
    }
   ],
   "source": [
    "import os\n",
    "import shutil\n",
    "\n",
    "# Spark输出的根目录路径\n",
    "root_folder = \"output\"  # 修改为你的实际路径\n",
    "# 目标保存CSV文件的目录\n",
    "target_folder = \"csv_files\"  # 最终CSV文件保存的位置\n",
    "\n",
    "# 如果目标文件夹不存在，则创建它\n",
    "os.makedirs(target_folder, exist_ok=True)\n",
    "\n",
    "# 遍历output下的所有子文件夹\n",
    "for folder_name in os.listdir(root_folder):\n",
    "    folder_path = os.path.join(root_folder, folder_name)\n",
    "\n",
    "    # 确保是文件夹\n",
    "    if os.path.isdir(folder_path):\n",
    "        # 查找CSV文件\n",
    "        for file_name in os.listdir(folder_path):\n",
    "            if file_name.endswith(\".csv\"):\n",
    "                csv_file_path = os.path.join(folder_path, file_name)\n",
    "\n",
    "                # 定义新的CSV文件名\n",
    "                new_csv_name = f\"{folder_name}\"\n",
    "                new_csv_path = os.path.join(target_folder, new_csv_name)\n",
    "\n",
    "                # 复制并重命名CSV文件\n",
    "                shutil.copy(csv_file_path, new_csv_path)\n",
    "                print(f\"Copied and renamed {csv_file_path} to {new_csv_path}\")\n"
   ]
  },
  {
   "cell_type": "code",
   "execution_count": null,
   "outputs": [],
   "source": [],
   "metadata": {
    "collapsed": false
   }
  }
 ],
 "metadata": {
  "kernelspec": {
   "display_name": "Python 3",
   "language": "python",
   "name": "python3"
  },
  "language_info": {
   "codemirror_mode": {
    "name": "ipython",
    "version": 2
   },
   "file_extension": ".py",
   "mimetype": "text/x-python",
   "name": "python",
   "nbconvert_exporter": "python",
   "pygments_lexer": "ipython2",
   "version": "2.7.6"
  }
 },
 "nbformat": 4,
 "nbformat_minor": 0
}

{
 "cells": [
  {
   "cell_type": "code",
   "execution_count": 1,
   "metadata": {
    "collapsed": true,
    "ExecuteTime": {
     "end_time": "2025-04-24T07:58:11.966216700Z",
     "start_time": "2025-04-24T07:58:11.957155400Z"
    }
   },
   "outputs": [],
   "source": [
    "#（一）数据选择与加载"
   ]
  },
  {
   "cell_type": "code",
   "execution_count": 4,
   "outputs": [
    {
     "data": {
      "text/plain": "        User_ID Product_ID Gender    Age  Occupation City_Category  \\\n0       1000001  P00069042      F   0-17          10             A   \n1       1000001  P00248942      F   0-17          10             A   \n2       1000001  P00087842      F   0-17          10             A   \n3       1000001  P00085442      F   0-17          10             A   \n4       1000002  P00285442      M    55+          16             C   \n...         ...        ...    ...    ...         ...           ...   \n537572  1004737  P00193542      M  36-45          16             C   \n537573  1004737  P00111142      M  36-45          16             C   \n537574  1004737  P00345942      M  36-45          16             C   \n537575  1004737  P00285842      M  36-45          16             C   \n537576  1004737  P00118242      M  36-45          16             C   \n\n       Stay_In_Current_City_Years  Marital_Status  Product_Category_1  \\\n0                               2               0                   3   \n1                               2               0                   1   \n2                               2               0                  12   \n3                               2               0                  12   \n4                              4+               0                   8   \n...                           ...             ...                 ...   \n537572                          1               0                   1   \n537573                          1               0                   1   \n537574                          1               0                   8   \n537575                          1               0                   5   \n537576                          1               0                   5   \n\n        Product_Category_2  Product_Category_3  Purchase  \n0                      NaN                 NaN      8370  \n1                      6.0                14.0     15200  \n2                      NaN                 NaN      1422  \n3                     14.0                 NaN      1057  \n4                      NaN                 NaN      7969  \n...                    ...                 ...       ...  \n537572                 2.0                 NaN     11664  \n537573                15.0                16.0     19196  \n537574                15.0                 NaN      8043  \n537575                 NaN                 NaN      7172  \n537576                 8.0                 NaN      6875  \n\n[537577 rows x 12 columns]",
      "text/html": "<div>\n<style scoped>\n    .dataframe tbody tr th:only-of-type {\n        vertical-align: middle;\n    }\n\n    .dataframe tbody tr th {\n        vertical-align: top;\n    }\n\n    .dataframe thead th {\n        text-align: right;\n    }\n</style>\n<table border=\"1\" class=\"dataframe\">\n  <thead>\n    <tr style=\"text-align: right;\">\n      <th></th>\n      <th>User_ID</th>\n      <th>Product_ID</th>\n      <th>Gender</th>\n      <th>Age</th>\n      <th>Occupation</th>\n      <th>City_Category</th>\n      <th>Stay_In_Current_City_Years</th>\n      <th>Marital_Status</th>\n      <th>Product_Category_1</th>\n      <th>Product_Category_2</th>\n      <th>Product_Category_3</th>\n      <th>Purchase</th>\n    </tr>\n  </thead>\n  <tbody>\n    <tr>\n      <th>0</th>\n      <td>1000001</td>\n      <td>P00069042</td>\n      <td>F</td>\n      <td>0-17</td>\n      <td>10</td>\n      <td>A</td>\n      <td>2</td>\n      <td>0</td>\n      <td>3</td>\n      <td>NaN</td>\n      <td>NaN</td>\n      <td>8370</td>\n    </tr>\n    <tr>\n      <th>1</th>\n      <td>1000001</td>\n      <td>P00248942</td>\n      <td>F</td>\n      <td>0-17</td>\n      <td>10</td>\n      <td>A</td>\n      <td>2</td>\n      <td>0</td>\n      <td>1</td>\n      <td>6.0</td>\n      <td>14.0</td>\n      <td>15200</td>\n    </tr>\n    <tr>\n      <th>2</th>\n      <td>1000001</td>\n      <td>P00087842</td>\n      <td>F</td>\n      <td>0-17</td>\n      <td>10</td>\n      <td>A</td>\n      <td>2</td>\n      <td>0</td>\n      <td>12</td>\n      <td>NaN</td>\n      <td>NaN</td>\n      <td>1422</td>\n    </tr>\n    <tr>\n      <th>3</th>\n      <td>1000001</td>\n      <td>P00085442</td>\n      <td>F</td>\n      <td>0-17</td>\n      <td>10</td>\n      <td>A</td>\n      <td>2</td>\n      <td>0</td>\n      <td>12</td>\n      <td>14.0</td>\n      <td>NaN</td>\n      <td>1057</td>\n    </tr>\n    <tr>\n      <th>4</th>\n      <td>1000002</td>\n      <td>P00285442</td>\n      <td>M</td>\n      <td>55+</td>\n      <td>16</td>\n      <td>C</td>\n      <td>4+</td>\n      <td>0</td>\n      <td>8</td>\n      <td>NaN</td>\n      <td>NaN</td>\n      <td>7969</td>\n    </tr>\n    <tr>\n      <th>...</th>\n      <td>...</td>\n      <td>...</td>\n      <td>...</td>\n      <td>...</td>\n      <td>...</td>\n      <td>...</td>\n      <td>...</td>\n      <td>...</td>\n      <td>...</td>\n      <td>...</td>\n      <td>...</td>\n      <td>...</td>\n    </tr>\n    <tr>\n      <th>537572</th>\n      <td>1004737</td>\n      <td>P00193542</td>\n      <td>M</td>\n      <td>36-45</td>\n      <td>16</td>\n      <td>C</td>\n      <td>1</td>\n      <td>0</td>\n      <td>1</td>\n      <td>2.0</td>\n      <td>NaN</td>\n      <td>11664</td>\n    </tr>\n    <tr>\n      <th>537573</th>\n      <td>1004737</td>\n      <td>P00111142</td>\n      <td>M</td>\n      <td>36-45</td>\n      <td>16</td>\n      <td>C</td>\n      <td>1</td>\n      <td>0</td>\n      <td>1</td>\n      <td>15.0</td>\n      <td>16.0</td>\n      <td>19196</td>\n    </tr>\n    <tr>\n      <th>537574</th>\n      <td>1004737</td>\n      <td>P00345942</td>\n      <td>M</td>\n      <td>36-45</td>\n      <td>16</td>\n      <td>C</td>\n      <td>1</td>\n      <td>0</td>\n      <td>8</td>\n      <td>15.0</td>\n      <td>NaN</td>\n      <td>8043</td>\n    </tr>\n    <tr>\n      <th>537575</th>\n      <td>1004737</td>\n      <td>P00285842</td>\n      <td>M</td>\n      <td>36-45</td>\n      <td>16</td>\n      <td>C</td>\n      <td>1</td>\n      <td>0</td>\n      <td>5</td>\n      <td>NaN</td>\n      <td>NaN</td>\n      <td>7172</td>\n    </tr>\n    <tr>\n      <th>537576</th>\n      <td>1004737</td>\n      <td>P00118242</td>\n      <td>M</td>\n      <td>36-45</td>\n      <td>16</td>\n      <td>C</td>\n      <td>1</td>\n      <td>0</td>\n      <td>5</td>\n      <td>8.0</td>\n      <td>NaN</td>\n      <td>6875</td>\n    </tr>\n  </tbody>\n</table>\n<p>537577 rows × 12 columns</p>\n</div>"
     },
     "execution_count": 4,
     "metadata": {},
     "output_type": "execute_result"
    }
   ],
   "source": [
    "import pandas as pd\n",
    "# 读取销售数据\n",
    "df = pd.read_csv('sales_data.csv')\n",
    "df"
   ],
   "metadata": {
    "collapsed": false,
    "ExecuteTime": {
     "end_time": "2025-04-24T08:23:02.673266Z",
     "start_time": "2025-04-24T08:23:02.296712600Z"
    }
   }
  },
  {
   "cell_type": "code",
   "execution_count": 5,
   "outputs": [
    {
     "data": {
      "text/plain": "        User_ID Product_ID Gender    Age  Occupation City_Category  \\\n0       1000001  P00069042      F   0-17          10             A   \n1       1000001  P00248942      F   0-17          10             A   \n2       1000001  P00087842      F   0-17          10             A   \n3       1000001  P00085442      F   0-17          10             A   \n4       1000002  P00285442      M    55+          16             C   \n...         ...        ...    ...    ...         ...           ...   \n537572  1004737  P00193542      M  36-45          16             C   \n537573  1004737  P00111142      M  36-45          16             C   \n537574  1004737  P00345942      M  36-45          16             C   \n537575  1004737  P00285842      M  36-45          16             C   \n537576  1004737  P00118242      M  36-45          16             C   \n\n       Stay_In_Current_City_Years  Marital_Status  Product_Category_1  \\\n0                               2               0                   3   \n1                               2               0                   1   \n2                               2               0                  12   \n3                               2               0                  12   \n4                              4+               0                   8   \n...                           ...             ...                 ...   \n537572                          1               0                   1   \n537573                          1               0                   1   \n537574                          1               0                   8   \n537575                          1               0                   5   \n537576                          1               0                   5   \n\n        Product_Category_2  Product_Category_3  Purchase Product_Name  \n0                      NaN                 NaN      8370    Product A  \n1                      6.0                14.0     15200    Product B  \n2                      NaN                 NaN      1422          NaN  \n3                     14.0                 NaN      1057          NaN  \n4                      NaN                 NaN      7969          NaN  \n...                    ...                 ...       ...          ...  \n537572                 2.0                 NaN     11664          NaN  \n537573                15.0                16.0     19196          NaN  \n537574                15.0                 NaN      8043          NaN  \n537575                 NaN                 NaN      7172          NaN  \n537576                 8.0                 NaN      6875          NaN  \n\n[537577 rows x 13 columns]",
      "text/html": "<div>\n<style scoped>\n    .dataframe tbody tr th:only-of-type {\n        vertical-align: middle;\n    }\n\n    .dataframe tbody tr th {\n        vertical-align: top;\n    }\n\n    .dataframe thead th {\n        text-align: right;\n    }\n</style>\n<table border=\"1\" class=\"dataframe\">\n  <thead>\n    <tr style=\"text-align: right;\">\n      <th></th>\n      <th>User_ID</th>\n      <th>Product_ID</th>\n      <th>Gender</th>\n      <th>Age</th>\n      <th>Occupation</th>\n      <th>City_Category</th>\n      <th>Stay_In_Current_City_Years</th>\n      <th>Marital_Status</th>\n      <th>Product_Category_1</th>\n      <th>Product_Category_2</th>\n      <th>Product_Category_3</th>\n      <th>Purchase</th>\n      <th>Product_Name</th>\n    </tr>\n  </thead>\n  <tbody>\n    <tr>\n      <th>0</th>\n      <td>1000001</td>\n      <td>P00069042</td>\n      <td>F</td>\n      <td>0-17</td>\n      <td>10</td>\n      <td>A</td>\n      <td>2</td>\n      <td>0</td>\n      <td>3</td>\n      <td>NaN</td>\n      <td>NaN</td>\n      <td>8370</td>\n      <td>Product A</td>\n    </tr>\n    <tr>\n      <th>1</th>\n      <td>1000001</td>\n      <td>P00248942</td>\n      <td>F</td>\n      <td>0-17</td>\n      <td>10</td>\n      <td>A</td>\n      <td>2</td>\n      <td>0</td>\n      <td>1</td>\n      <td>6.0</td>\n      <td>14.0</td>\n      <td>15200</td>\n      <td>Product B</td>\n    </tr>\n    <tr>\n      <th>2</th>\n      <td>1000001</td>\n      <td>P00087842</td>\n      <td>F</td>\n      <td>0-17</td>\n      <td>10</td>\n      <td>A</td>\n      <td>2</td>\n      <td>0</td>\n      <td>12</td>\n      <td>NaN</td>\n      <td>NaN</td>\n      <td>1422</td>\n      <td>NaN</td>\n    </tr>\n    <tr>\n      <th>3</th>\n      <td>1000001</td>\n      <td>P00085442</td>\n      <td>F</td>\n      <td>0-17</td>\n      <td>10</td>\n      <td>A</td>\n      <td>2</td>\n      <td>0</td>\n      <td>12</td>\n      <td>14.0</td>\n      <td>NaN</td>\n      <td>1057</td>\n      <td>NaN</td>\n    </tr>\n    <tr>\n      <th>4</th>\n      <td>1000002</td>\n      <td>P00285442</td>\n      <td>M</td>\n      <td>55+</td>\n      <td>16</td>\n      <td>C</td>\n      <td>4+</td>\n      <td>0</td>\n      <td>8</td>\n      <td>NaN</td>\n      <td>NaN</td>\n      <td>7969</td>\n      <td>NaN</td>\n    </tr>\n    <tr>\n      <th>...</th>\n      <td>...</td>\n      <td>...</td>\n      <td>...</td>\n      <td>...</td>\n      <td>...</td>\n      <td>...</td>\n      <td>...</td>\n      <td>...</td>\n      <td>...</td>\n      <td>...</td>\n      <td>...</td>\n      <td>...</td>\n      <td>...</td>\n    </tr>\n    <tr>\n      <th>537572</th>\n      <td>1004737</td>\n      <td>P00193542</td>\n      <td>M</td>\n      <td>36-45</td>\n      <td>16</td>\n      <td>C</td>\n      <td>1</td>\n      <td>0</td>\n      <td>1</td>\n      <td>2.0</td>\n      <td>NaN</td>\n      <td>11664</td>\n      <td>NaN</td>\n    </tr>\n    <tr>\n      <th>537573</th>\n      <td>1004737</td>\n      <td>P00111142</td>\n      <td>M</td>\n      <td>36-45</td>\n      <td>16</td>\n      <td>C</td>\n      <td>1</td>\n      <td>0</td>\n      <td>1</td>\n      <td>15.0</td>\n      <td>16.0</td>\n      <td>19196</td>\n      <td>NaN</td>\n    </tr>\n    <tr>\n      <th>537574</th>\n      <td>1004737</td>\n      <td>P00345942</td>\n      <td>M</td>\n      <td>36-45</td>\n      <td>16</td>\n      <td>C</td>\n      <td>1</td>\n      <td>0</td>\n      <td>8</td>\n      <td>15.0</td>\n      <td>NaN</td>\n      <td>8043</td>\n      <td>NaN</td>\n    </tr>\n    <tr>\n      <th>537575</th>\n      <td>1004737</td>\n      <td>P00285842</td>\n      <td>M</td>\n      <td>36-45</td>\n      <td>16</td>\n      <td>C</td>\n      <td>1</td>\n      <td>0</td>\n      <td>5</td>\n      <td>NaN</td>\n      <td>NaN</td>\n      <td>7172</td>\n      <td>NaN</td>\n    </tr>\n    <tr>\n      <th>537576</th>\n      <td>1004737</td>\n      <td>P00118242</td>\n      <td>M</td>\n      <td>36-45</td>\n      <td>16</td>\n      <td>C</td>\n      <td>1</td>\n      <td>0</td>\n      <td>5</td>\n      <td>8.0</td>\n      <td>NaN</td>\n      <td>6875</td>\n      <td>NaN</td>\n    </tr>\n  </tbody>\n</table>\n<p>537577 rows × 13 columns</p>\n</div>"
     },
     "execution_count": 5,
     "metadata": {},
     "output_type": "execute_result"
    }
   ],
   "source": [
    "# 假设这里有一个包含产品信息的DataFrame\n",
    "product_info = pd.DataFrame({\n",
    "    'Product_ID': ['P00069042', 'P00248942'],\n",
    "    'Product_Name': ['Product A', 'Product B']\n",
    "})\n",
    "# 使用pd.merge进行数据合并\n",
    "df = pd.merge(df, product_info, on='Product_ID', how='left')\n",
    "df"
   ],
   "metadata": {
    "collapsed": false,
    "ExecuteTime": {
     "end_time": "2025-04-24T08:23:10.980405200Z",
     "start_time": "2025-04-24T08:23:10.865101600Z"
    }
   }
  },
  {
   "cell_type": "code",
   "execution_count": 6,
   "outputs": [
    {
     "data": {
      "text/plain": "  Gender  total_purchase  average_purchase\n0      F      1164624021       8809.761349\n1      M      3853044357       9504.771713",
      "text/html": "<div>\n<style scoped>\n    .dataframe tbody tr th:only-of-type {\n        vertical-align: middle;\n    }\n\n    .dataframe tbody tr th {\n        vertical-align: top;\n    }\n\n    .dataframe thead th {\n        text-align: right;\n    }\n</style>\n<table border=\"1\" class=\"dataframe\">\n  <thead>\n    <tr style=\"text-align: right;\">\n      <th></th>\n      <th>Gender</th>\n      <th>total_purchase</th>\n      <th>average_purchase</th>\n    </tr>\n  </thead>\n  <tbody>\n    <tr>\n      <th>0</th>\n      <td>F</td>\n      <td>1164624021</td>\n      <td>8809.761349</td>\n    </tr>\n    <tr>\n      <th>1</th>\n      <td>M</td>\n      <td>3853044357</td>\n      <td>9504.771713</td>\n    </tr>\n  </tbody>\n</table>\n</div>"
     },
     "execution_count": 6,
     "metadata": {},
     "output_type": "execute_result"
    }
   ],
   "source": [
    "# 按性别分组，统计购买金额的总和与平均值\n",
    "gender_group = df.groupby('Gender').agg(\n",
    "    total_purchase=('Purchase','sum'),\n",
    "    average_purchase=('Purchase','mean')\n",
    ").reset_index()\n",
    "gender_group"
   ],
   "metadata": {
    "collapsed": false,
    "ExecuteTime": {
     "end_time": "2025-04-24T08:23:17.323514600Z",
     "start_time": "2025-04-24T08:23:17.274601200Z"
    }
   }
  },
  {
   "cell_type": "code",
   "execution_count": 7,
   "outputs": [
    {
     "data": {
      "text/plain": "        User_ID Product_ID Gender    Age  Occupation City_Category  \\\n0       1000001  P00069042      F   0-17          10             A   \n1       1000001  P00248942      F   0-17          10             A   \n2       1000001  P00087842      F   0-17          10             A   \n3       1000001  P00085442      F   0-17          10             A   \n4       1000002  P00285442      M    55+          16             C   \n...         ...        ...    ...    ...         ...           ...   \n537572  1004737  P00193542      M  36-45          16             C   \n537573  1004737  P00111142      M  36-45          16             C   \n537574  1004737  P00345942      M  36-45          16             C   \n537575  1004737  P00285842      M  36-45          16             C   \n537576  1004737  P00118242      M  36-45          16             C   \n\n       Stay_In_Current_City_Years  Marital_Status  Product_Category_1  \\\n0                               2               0                   3   \n1                               2               0                   1   \n2                               2               0                  12   \n3                               2               0                  12   \n4                              4+               0                   8   \n...                           ...             ...                 ...   \n537572                          1               0                   1   \n537573                          1               0                   1   \n537574                          1               0                   8   \n537575                          1               0                   5   \n537576                          1               0                   5   \n\n        Product_Category_2  Product_Category_3  Purchase Product_Name  \\\n0                      NaN                 NaN      8370    Product A   \n1                      6.0                14.0     15200    Product B   \n2                      NaN                 NaN      1422          NaN   \n3                     14.0                 NaN      1057          NaN   \n4                      NaN                 NaN      7969          NaN   \n...                    ...                 ...       ...          ...   \n537572                 2.0                 NaN     11664          NaN   \n537573                15.0                16.0     19196          NaN   \n537574                15.0                 NaN      8043          NaN   \n537575                 NaN                 NaN      7172          NaN   \n537576                 8.0                 NaN      6875          NaN   \n\n        standardized_purchase  \n0                   -0.128471  \n1                    1.221198  \n2                   -1.501458  \n3                   -1.573585  \n4                   -0.300640  \n...                       ...  \n537572               0.454481  \n537573               1.967462  \n537574              -0.272883  \n537575              -0.447844  \n537576              -0.507503  \n\n[537577 rows x 14 columns]",
      "text/html": "<div>\n<style scoped>\n    .dataframe tbody tr th:only-of-type {\n        vertical-align: middle;\n    }\n\n    .dataframe tbody tr th {\n        vertical-align: top;\n    }\n\n    .dataframe thead th {\n        text-align: right;\n    }\n</style>\n<table border=\"1\" class=\"dataframe\">\n  <thead>\n    <tr style=\"text-align: right;\">\n      <th></th>\n      <th>User_ID</th>\n      <th>Product_ID</th>\n      <th>Gender</th>\n      <th>Age</th>\n      <th>Occupation</th>\n      <th>City_Category</th>\n      <th>Stay_In_Current_City_Years</th>\n      <th>Marital_Status</th>\n      <th>Product_Category_1</th>\n      <th>Product_Category_2</th>\n      <th>Product_Category_3</th>\n      <th>Purchase</th>\n      <th>Product_Name</th>\n      <th>standardized_purchase</th>\n    </tr>\n  </thead>\n  <tbody>\n    <tr>\n      <th>0</th>\n      <td>1000001</td>\n      <td>P00069042</td>\n      <td>F</td>\n      <td>0-17</td>\n      <td>10</td>\n      <td>A</td>\n      <td>2</td>\n      <td>0</td>\n      <td>3</td>\n      <td>NaN</td>\n      <td>NaN</td>\n      <td>8370</td>\n      <td>Product A</td>\n      <td>-0.128471</td>\n    </tr>\n    <tr>\n      <th>1</th>\n      <td>1000001</td>\n      <td>P00248942</td>\n      <td>F</td>\n      <td>0-17</td>\n      <td>10</td>\n      <td>A</td>\n      <td>2</td>\n      <td>0</td>\n      <td>1</td>\n      <td>6.0</td>\n      <td>14.0</td>\n      <td>15200</td>\n      <td>Product B</td>\n      <td>1.221198</td>\n    </tr>\n    <tr>\n      <th>2</th>\n      <td>1000001</td>\n      <td>P00087842</td>\n      <td>F</td>\n      <td>0-17</td>\n      <td>10</td>\n      <td>A</td>\n      <td>2</td>\n      <td>0</td>\n      <td>12</td>\n      <td>NaN</td>\n      <td>NaN</td>\n      <td>1422</td>\n      <td>NaN</td>\n      <td>-1.501458</td>\n    </tr>\n    <tr>\n      <th>3</th>\n      <td>1000001</td>\n      <td>P00085442</td>\n      <td>F</td>\n      <td>0-17</td>\n      <td>10</td>\n      <td>A</td>\n      <td>2</td>\n      <td>0</td>\n      <td>12</td>\n      <td>14.0</td>\n      <td>NaN</td>\n      <td>1057</td>\n      <td>NaN</td>\n      <td>-1.573585</td>\n    </tr>\n    <tr>\n      <th>4</th>\n      <td>1000002</td>\n      <td>P00285442</td>\n      <td>M</td>\n      <td>55+</td>\n      <td>16</td>\n      <td>C</td>\n      <td>4+</td>\n      <td>0</td>\n      <td>8</td>\n      <td>NaN</td>\n      <td>NaN</td>\n      <td>7969</td>\n      <td>NaN</td>\n      <td>-0.300640</td>\n    </tr>\n    <tr>\n      <th>...</th>\n      <td>...</td>\n      <td>...</td>\n      <td>...</td>\n      <td>...</td>\n      <td>...</td>\n      <td>...</td>\n      <td>...</td>\n      <td>...</td>\n      <td>...</td>\n      <td>...</td>\n      <td>...</td>\n      <td>...</td>\n      <td>...</td>\n      <td>...</td>\n    </tr>\n    <tr>\n      <th>537572</th>\n      <td>1004737</td>\n      <td>P00193542</td>\n      <td>M</td>\n      <td>36-45</td>\n      <td>16</td>\n      <td>C</td>\n      <td>1</td>\n      <td>0</td>\n      <td>1</td>\n      <td>2.0</td>\n      <td>NaN</td>\n      <td>11664</td>\n      <td>NaN</td>\n      <td>0.454481</td>\n    </tr>\n    <tr>\n      <th>537573</th>\n      <td>1004737</td>\n      <td>P00111142</td>\n      <td>M</td>\n      <td>36-45</td>\n      <td>16</td>\n      <td>C</td>\n      <td>1</td>\n      <td>0</td>\n      <td>1</td>\n      <td>15.0</td>\n      <td>16.0</td>\n      <td>19196</td>\n      <td>NaN</td>\n      <td>1.967462</td>\n    </tr>\n    <tr>\n      <th>537574</th>\n      <td>1004737</td>\n      <td>P00345942</td>\n      <td>M</td>\n      <td>36-45</td>\n      <td>16</td>\n      <td>C</td>\n      <td>1</td>\n      <td>0</td>\n      <td>8</td>\n      <td>15.0</td>\n      <td>NaN</td>\n      <td>8043</td>\n      <td>NaN</td>\n      <td>-0.272883</td>\n    </tr>\n    <tr>\n      <th>537575</th>\n      <td>1004737</td>\n      <td>P00285842</td>\n      <td>M</td>\n      <td>36-45</td>\n      <td>16</td>\n      <td>C</td>\n      <td>1</td>\n      <td>0</td>\n      <td>5</td>\n      <td>NaN</td>\n      <td>NaN</td>\n      <td>7172</td>\n      <td>NaN</td>\n      <td>-0.447844</td>\n    </tr>\n    <tr>\n      <th>537576</th>\n      <td>1004737</td>\n      <td>P00118242</td>\n      <td>M</td>\n      <td>36-45</td>\n      <td>16</td>\n      <td>C</td>\n      <td>1</td>\n      <td>0</td>\n      <td>5</td>\n      <td>8.0</td>\n      <td>NaN</td>\n      <td>6875</td>\n      <td>NaN</td>\n      <td>-0.507503</td>\n    </tr>\n  </tbody>\n</table>\n<p>537577 rows × 14 columns</p>\n</div>"
     },
     "execution_count": 7,
     "metadata": {},
     "output_type": "execute_result"
    }
   ],
   "source": [
    "# 定义标准化函数\n",
    "def standardize_purchase(purchase):\n",
    "    return (purchase - purchase.mean()) / purchase.std()\n",
    "# 按年龄分组，对购买金额进行标准化（transform操作）\n",
    "df['standardized_purchase'] = df.groupby('Age')['Purchase'].transform(standardize_purchase)\n",
    "df"
   ],
   "metadata": {
    "collapsed": false,
    "ExecuteTime": {
     "end_time": "2025-04-24T08:23:23.401817900Z",
     "start_time": "2025-04-24T08:23:23.289779500Z"
    }
   }
  },
  {
   "cell_type": "code",
   "execution_count": 8,
   "outputs": [
    {
     "data": {
      "text/plain": "Product_Category_1 Gender    Age      1     2     3     4      5     6     7  \\\n0                       F   0-17    759   362   497   381   1492    88     8   \n1                       F  18-25   4579  1135  1484   771   7809   760   100   \n2                       F  26-35   9202  1815  1863  1132  16261  1715   388   \n3                       F  36-45   5164  1181  1153   686   7671   953   216   \n4                       F  46-50   2449   512   440   308   3680   434   101   \n5                       F  51-55   1575   390   293   206   2932   348    81   \n6                       F    55+    673   178   144    88   1354   177    34   \n7                       M   0-17   2765   427   683   363   2788   304    43   \n8                       M  18-25  22048  3213  3149  1665  20348  2951   374   \n9                       M  26-35  48196  6969  5661  2992  44226  6629  1242   \n10                      M  36-45  22051  3675  2632  1625  21265  2886   580   \n11                      M  46-50   7843  1556   903   663   8056  1162   221   \n12                      M  51-55   7375  1373   615   460   6788  1081   182   \n13                      M    55+   3674   713   332   227   3922   676    98   \n\nProduct_Category_1      8    9    10    11   12    13   14    15    16   17  \\\n0                     847    5    29   236   80    34   23    42    60    2   \n1                    5112   12   118  1034  214   202   92   168   414    8   \n2                   12446   23   355  1643  401   481  229   353   933    5   \n3                    6466   17   276   989  346   342  127   226   500   23   \n4                    3505    6   134   440  197   156   56   117   245    8   \n5                    2819    5   128   227  149   142   63    79   156    7   \n6                    1752    2    98    90  110    71   23    38    55    8   \n7                    1366   11    79   492   40    74   14   116   166    4   \n8                   12553   49   478  3515  221   546  136   842  1165   33   \n9                   31087  128  1402  8092  671  1574  324  1988  3123  120   \n10                  16453   89   930  3895  635   881  181  1151  1435  110   \n11                   6988   27   379  1632  310   381   93   472   623   83   \n12                   6383   24   379  1213  279   333   88   421   505   99   \n13                   4355    6   247   462  222   223   51   190   317   57   \n\nProduct_Category_1   18  \n0                     8  \n1                    45  \n2                   103  \n3                    84  \n4                    68  \n5                    34  \n6                    34  \n7                    19  \n8                   291  \n9                   918  \n10                  605  \n11                  278  \n12                  386  \n13                  202  ",
      "text/html": "<div>\n<style scoped>\n    .dataframe tbody tr th:only-of-type {\n        vertical-align: middle;\n    }\n\n    .dataframe tbody tr th {\n        vertical-align: top;\n    }\n\n    .dataframe thead th {\n        text-align: right;\n    }\n</style>\n<table border=\"1\" class=\"dataframe\">\n  <thead>\n    <tr style=\"text-align: right;\">\n      <th>Product_Category_1</th>\n      <th>Gender</th>\n      <th>Age</th>\n      <th>1</th>\n      <th>2</th>\n      <th>3</th>\n      <th>4</th>\n      <th>5</th>\n      <th>6</th>\n      <th>7</th>\n      <th>8</th>\n      <th>9</th>\n      <th>10</th>\n      <th>11</th>\n      <th>12</th>\n      <th>13</th>\n      <th>14</th>\n      <th>15</th>\n      <th>16</th>\n      <th>17</th>\n      <th>18</th>\n    </tr>\n  </thead>\n  <tbody>\n    <tr>\n      <th>0</th>\n      <td>F</td>\n      <td>0-17</td>\n      <td>759</td>\n      <td>362</td>\n      <td>497</td>\n      <td>381</td>\n      <td>1492</td>\n      <td>88</td>\n      <td>8</td>\n      <td>847</td>\n      <td>5</td>\n      <td>29</td>\n      <td>236</td>\n      <td>80</td>\n      <td>34</td>\n      <td>23</td>\n      <td>42</td>\n      <td>60</td>\n      <td>2</td>\n      <td>8</td>\n    </tr>\n    <tr>\n      <th>1</th>\n      <td>F</td>\n      <td>18-25</td>\n      <td>4579</td>\n      <td>1135</td>\n      <td>1484</td>\n      <td>771</td>\n      <td>7809</td>\n      <td>760</td>\n      <td>100</td>\n      <td>5112</td>\n      <td>12</td>\n      <td>118</td>\n      <td>1034</td>\n      <td>214</td>\n      <td>202</td>\n      <td>92</td>\n      <td>168</td>\n      <td>414</td>\n      <td>8</td>\n      <td>45</td>\n    </tr>\n    <tr>\n      <th>2</th>\n      <td>F</td>\n      <td>26-35</td>\n      <td>9202</td>\n      <td>1815</td>\n      <td>1863</td>\n      <td>1132</td>\n      <td>16261</td>\n      <td>1715</td>\n      <td>388</td>\n      <td>12446</td>\n      <td>23</td>\n      <td>355</td>\n      <td>1643</td>\n      <td>401</td>\n      <td>481</td>\n      <td>229</td>\n      <td>353</td>\n      <td>933</td>\n      <td>5</td>\n      <td>103</td>\n    </tr>\n    <tr>\n      <th>3</th>\n      <td>F</td>\n      <td>36-45</td>\n      <td>5164</td>\n      <td>1181</td>\n      <td>1153</td>\n      <td>686</td>\n      <td>7671</td>\n      <td>953</td>\n      <td>216</td>\n      <td>6466</td>\n      <td>17</td>\n      <td>276</td>\n      <td>989</td>\n      <td>346</td>\n      <td>342</td>\n      <td>127</td>\n      <td>226</td>\n      <td>500</td>\n      <td>23</td>\n      <td>84</td>\n    </tr>\n    <tr>\n      <th>4</th>\n      <td>F</td>\n      <td>46-50</td>\n      <td>2449</td>\n      <td>512</td>\n      <td>440</td>\n      <td>308</td>\n      <td>3680</td>\n      <td>434</td>\n      <td>101</td>\n      <td>3505</td>\n      <td>6</td>\n      <td>134</td>\n      <td>440</td>\n      <td>197</td>\n      <td>156</td>\n      <td>56</td>\n      <td>117</td>\n      <td>245</td>\n      <td>8</td>\n      <td>68</td>\n    </tr>\n    <tr>\n      <th>5</th>\n      <td>F</td>\n      <td>51-55</td>\n      <td>1575</td>\n      <td>390</td>\n      <td>293</td>\n      <td>206</td>\n      <td>2932</td>\n      <td>348</td>\n      <td>81</td>\n      <td>2819</td>\n      <td>5</td>\n      <td>128</td>\n      <td>227</td>\n      <td>149</td>\n      <td>142</td>\n      <td>63</td>\n      <td>79</td>\n      <td>156</td>\n      <td>7</td>\n      <td>34</td>\n    </tr>\n    <tr>\n      <th>6</th>\n      <td>F</td>\n      <td>55+</td>\n      <td>673</td>\n      <td>178</td>\n      <td>144</td>\n      <td>88</td>\n      <td>1354</td>\n      <td>177</td>\n      <td>34</td>\n      <td>1752</td>\n      <td>2</td>\n      <td>98</td>\n      <td>90</td>\n      <td>110</td>\n      <td>71</td>\n      <td>23</td>\n      <td>38</td>\n      <td>55</td>\n      <td>8</td>\n      <td>34</td>\n    </tr>\n    <tr>\n      <th>7</th>\n      <td>M</td>\n      <td>0-17</td>\n      <td>2765</td>\n      <td>427</td>\n      <td>683</td>\n      <td>363</td>\n      <td>2788</td>\n      <td>304</td>\n      <td>43</td>\n      <td>1366</td>\n      <td>11</td>\n      <td>79</td>\n      <td>492</td>\n      <td>40</td>\n      <td>74</td>\n      <td>14</td>\n      <td>116</td>\n      <td>166</td>\n      <td>4</td>\n      <td>19</td>\n    </tr>\n    <tr>\n      <th>8</th>\n      <td>M</td>\n      <td>18-25</td>\n      <td>22048</td>\n      <td>3213</td>\n      <td>3149</td>\n      <td>1665</td>\n      <td>20348</td>\n      <td>2951</td>\n      <td>374</td>\n      <td>12553</td>\n      <td>49</td>\n      <td>478</td>\n      <td>3515</td>\n      <td>221</td>\n      <td>546</td>\n      <td>136</td>\n      <td>842</td>\n      <td>1165</td>\n      <td>33</td>\n      <td>291</td>\n    </tr>\n    <tr>\n      <th>9</th>\n      <td>M</td>\n      <td>26-35</td>\n      <td>48196</td>\n      <td>6969</td>\n      <td>5661</td>\n      <td>2992</td>\n      <td>44226</td>\n      <td>6629</td>\n      <td>1242</td>\n      <td>31087</td>\n      <td>128</td>\n      <td>1402</td>\n      <td>8092</td>\n      <td>671</td>\n      <td>1574</td>\n      <td>324</td>\n      <td>1988</td>\n      <td>3123</td>\n      <td>120</td>\n      <td>918</td>\n    </tr>\n    <tr>\n      <th>10</th>\n      <td>M</td>\n      <td>36-45</td>\n      <td>22051</td>\n      <td>3675</td>\n      <td>2632</td>\n      <td>1625</td>\n      <td>21265</td>\n      <td>2886</td>\n      <td>580</td>\n      <td>16453</td>\n      <td>89</td>\n      <td>930</td>\n      <td>3895</td>\n      <td>635</td>\n      <td>881</td>\n      <td>181</td>\n      <td>1151</td>\n      <td>1435</td>\n      <td>110</td>\n      <td>605</td>\n    </tr>\n    <tr>\n      <th>11</th>\n      <td>M</td>\n      <td>46-50</td>\n      <td>7843</td>\n      <td>1556</td>\n      <td>903</td>\n      <td>663</td>\n      <td>8056</td>\n      <td>1162</td>\n      <td>221</td>\n      <td>6988</td>\n      <td>27</td>\n      <td>379</td>\n      <td>1632</td>\n      <td>310</td>\n      <td>381</td>\n      <td>93</td>\n      <td>472</td>\n      <td>623</td>\n      <td>83</td>\n      <td>278</td>\n    </tr>\n    <tr>\n      <th>12</th>\n      <td>M</td>\n      <td>51-55</td>\n      <td>7375</td>\n      <td>1373</td>\n      <td>615</td>\n      <td>460</td>\n      <td>6788</td>\n      <td>1081</td>\n      <td>182</td>\n      <td>6383</td>\n      <td>24</td>\n      <td>379</td>\n      <td>1213</td>\n      <td>279</td>\n      <td>333</td>\n      <td>88</td>\n      <td>421</td>\n      <td>505</td>\n      <td>99</td>\n      <td>386</td>\n    </tr>\n    <tr>\n      <th>13</th>\n      <td>M</td>\n      <td>55+</td>\n      <td>3674</td>\n      <td>713</td>\n      <td>332</td>\n      <td>227</td>\n      <td>3922</td>\n      <td>676</td>\n      <td>98</td>\n      <td>4355</td>\n      <td>6</td>\n      <td>247</td>\n      <td>462</td>\n      <td>222</td>\n      <td>223</td>\n      <td>51</td>\n      <td>190</td>\n      <td>317</td>\n      <td>57</td>\n      <td>202</td>\n    </tr>\n  </tbody>\n</table>\n</div>"
     },
     "execution_count": 8,
     "metadata": {},
     "output_type": "execute_result"
    }
   ],
   "source": [
    "# 创建透视表，以性别和年龄为索引，统计不同产品类别的购买数量\n",
    "pivot_df = pd.pivot_table(df, index=['Gender', 'Age'], columns='Product_Category_1',\n",
    "                          values='Purchase', aggfunc='count', fill_value=0).reset_index()\n",
    "pivot_df"
   ],
   "metadata": {
    "collapsed": false,
    "ExecuteTime": {
     "end_time": "2025-04-24T08:23:29.008669900Z",
     "start_time": "2025-04-24T08:23:28.910565700Z"
    }
   }
  },
  {
   "cell_type": "code",
   "execution_count": null,
   "outputs": [],
   "source": [],
   "metadata": {
    "collapsed": false
   }
  }
 ],
 "metadata": {
  "kernelspec": {
   "display_name": "Python 3",
   "language": "python",
   "name": "python3"
  },
  "language_info": {
   "codemirror_mode": {
    "name": "ipython",
    "version": 2
   },
   "file_extension": ".py",
   "mimetype": "text/x-python",
   "name": "python",
   "nbconvert_exporter": "python",
   "pygments_lexer": "ipython2",
   "version": "2.7.6"
  }
 },
 "nbformat": 4,
 "nbformat_minor": 0
}
